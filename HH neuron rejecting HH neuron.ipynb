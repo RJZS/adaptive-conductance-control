{
 "cells": [
  {
   "cell_type": "markdown",
   "id": "50080866",
   "metadata": {},
   "source": [
    "## HH neuron rejecting an HH neuron\n",
    "\n",
    "The plant is an HH neuron. The adaptive controller rejects the disturbance of a synaptic current. The presynaptic neuron is an HH neuron."
   ]
  },
  {
   "cell_type": "code",
   "execution_count": 1,
   "id": "d04c40f1",
   "metadata": {},
   "outputs": [],
   "source": [
    "import numpy as np\n",
    "import matplotlib.pyplot as plt\n",
    "from scipy.integrate import solve_ivp\n",
    "\n",
    "# Flag for saving data to .txt files \n",
    "save_data = 0\n",
    "from HH_odes import HH_ode, HH_synapse_observer"
   ]
  },
  {
   "cell_type": "markdown",
   "id": "d73fcd56",
   "metadata": {},
   "source": [
    "Now set the parameters of the true system (that is, the postsynaptic HH neuron) and the adaptive observer. Then set the initial conditions of the true system, adaptive observer and the presynaptic neuron. Finally, set up the simulation."
   ]
  },
  {
   "cell_type": "code",
   "execution_count": 6,
   "id": "3e60f79f",
   "metadata": {},
   "outputs": [],
   "source": [
    "# True Parameters \n",
    "c = 1.\n",
    "g = (120.,36.,0.3, 2) # Na, K, L, syn\n",
    "E = (55.,-77.,-54.4, -80.)\n",
    "Iapp = lambda t : 2 + np.sin(2*np.pi/10*t)\n",
    "\n",
    "# Observer parameters\n",
    "α = 0.5\n",
    "γ = 70\n",
    "\n",
    "# Initial conditions\n",
    "x_0 = [0, 0, 0, 0, 0]; # V, m, h, n, s\n",
    "x̂_0 = [-60, 0.5, 0.5, 0.5, 0.5];\n",
    "θ̂_0 = [60, 60, 10, 10, 0, 0, 0, 0, 0]; # gNa, gK, gL, gsyn, gNa*ENa, gK*EK, gL*EL, gsyn*Esyn, 1\n",
    "P_0 = np.eye(9);\n",
    "Ψ_0 = [0, 0, 0, 0, 0, 0, 0, 0, 0];\n",
    "x_0_p = [0, 0, 0, 0]; # x_0 for presynaptic neuron\n",
    "\n",
    "# Integration initial conditions and parameters\n",
    "dt = 0.01\n",
    "Tfinal = 100. # Default is 100.\n",
    "tspan = (0.,Tfinal)\n",
    "z_0 = np.concatenate((x_0, x̂_0, θ̂_0, P_0.flatten(), Ψ_0, x_0_p, x_0[:4]))"
   ]
  },
  {
   "cell_type": "markdown",
   "id": "7dbfb212",
   "metadata": {},
   "source": [
    "Switch the controller on or off. If off, the adaptive observer will generate an estimated synaptic current $\\hat{I}_{syn}$ but no control current $I_{control}$ will be injected into the plant. If on, there will be an injected current $I_{control} = -\\hat{I}_{syn}$."
   ]
  },
  {
   "cell_type": "code",
   "execution_count": 7,
   "id": "242cad9d",
   "metadata": {},
   "outputs": [],
   "source": [
    "controller_on = False"
   ]
  },
  {
   "cell_type": "markdown",
   "id": "45f4098a",
   "metadata": {},
   "source": [
    "Run the simulation and extract the output."
   ]
  },
  {
   "cell_type": "code",
   "execution_count": 8,
   "id": "047cbd22",
   "metadata": {},
   "outputs": [],
   "source": [
    "# Integrate\n",
    "p = (Iapp,c,g,E,(α,γ),controller_on)\n",
    "out = solve_ivp(lambda t, z: HH_synapse_observer(t, z, p), tspan, z_0,rtol=1e-6,atol=1e-6)\n",
    "t = out.t\n",
    "sol = out.y\n",
    "\n",
    "v = sol[0,:];\n",
    "w = sol[1:5,:];\n",
    "v̂ = sol[5,:];\n",
    "ŵ = sol[6:10,:];\n",
    "θ̂ = sol[10:19,:];\n",
    "v_nosyn = sol[113,:];\n",
    "\n",
    "if save_data == 1:\n",
    "    np.savetxt(\"data/HH_voltages.txt\",  np.concatenate((t,v,v̂),axis=1), delimiter=\" \")\n",
    "    np.savetxt(\"data/HH_parameters.txt\",  \n",
    "               np.concatenate((t,np.transpose(θ̂)),axis=1), delimiter=\" \")\n",
    "\n",
    "# Calculate real and estimated synaptic current. Remember, the algorithm is\n",
    "# online, so using the parameter estimates for that timestep.\n",
    "Isyn = g[3] * w[3,:] * (v - E[3])\n",
    "Isyn_hat = θ̂ [3,:] * ŵ[3,:] * (v - np.divide(θ̂[7,:],θ̂[3,:]))"
   ]
  },
  {
   "cell_type": "markdown",
   "id": "f3822afd",
   "metadata": {},
   "source": [
    "Plots"
   ]
  },
  {
   "cell_type": "code",
   "execution_count": null,
   "id": "fecb9a23",
   "metadata": {},
   "outputs": [
    {
     "data": {
      "text/plain": [
       "[<matplotlib.lines.Line2D at 0x3dd43dcb20>]"
      ]
     },
     "execution_count": 9,
     "metadata": {},
     "output_type": "execute_result"
    }
   ],
   "source": [
    "# Black dashed line is true value. Red is estimate.\n",
    "# Green dashed is estimate by simpler adaptive observer,\n",
    "# from Besancon (citation [4] in Thiago's paper).\n",
    "\n",
    "# Need to sort plots.\n",
    "# Solution?: https://www.futurelearn.com/info/courses/data-visualisation-with-python-matplotlib-and-visual-analysis/0/steps/192875\n",
    "plt0 = plt.figure(); plt0ax = plt0.add_axes([0,0,1,1])\n",
    "plt0ax.plot(t,v)\n",
    "plt0ax.plot(t,v_nosyn)\n",
    "plt0ax.plot(t,v̂,color=\"red\",linestyle=\"dashed\")\n",
    "\n",
    "# gNa/c\n",
    "plt1 = plt.figure(); plt1ax = plt1.add_axes([0,0,1,1])\n",
    "plt1ax.plot([0,Tfinal],[g[0]/c,g[0]/c],color=\"black\",linestyle=\"dashed\",label=\"gNa/c\")\n",
    "plt1ax.plot(t,θ̂[0,:],color=\"red\")\n",
    "\n",
    "# gK/c\n",
    "plt2 = plt.figure(); plt2ax = plt2.add_axes([0,0,1,1])\n",
    "plt2ax.plot([0,Tfinal],[g[1]/c,g[1]/c],color=\"black\",linestyle=\"dashed\",label=\"gK/c\")\n",
    "plt2ax.plot(t,θ̂[1,:],color=\"red\")\n",
    "\n",
    "# gL/c\n",
    "plt3 = plt.figure(); plt3ax = plt3.add_axes([0,0,1,1])\n",
    "plt3ax.plot([0,Tfinal],[g[2]/c,g[2]/c],color=\"black\",linestyle=\"dashed\",label=\"gL/c\")\n",
    "plt3ax.plot(t,θ̂[2,:],color=\"red\")\n",
    "\n",
    "# gNa*ENa/c\n",
    "plt4 = plt.figure(); plt4ax = plt4.add_axes([0,0,1,1])\n",
    "plt4ax.plot([0,Tfinal],[g[0]*E[0]/c,g[0]*E[0]/c],color=\"black\",linestyle=\"dashed\",label=\"gNa*ENa/c\")\n",
    "plt4ax.plot(t,θ̂[3,:],color=\"red\")\n",
    "\n",
    "# gK*EK/c\n",
    "plt5 = plt.figure(); plt5ax = plt5.add_axes([0,0,1,1])\n",
    "plt5ax.plot([0,Tfinal],[g[1]*E[1]/c,g[1]*E[1]/c],color=\"black\",linestyle=\"dashed\",label=\"gK*EK/c\")\n",
    "plt5ax.plot(t,θ̂[4,:],color=\"red\")\n",
    "\n",
    "# gL*EL/c\n",
    "plt6 = plt.figure(); plt6ax = plt6.add_axes([0,0,1,1])\n",
    "plt6ax.plot([0,Tfinal],[g[2]*E[2]/c,g[2]*E[2]/c],color=\"black\",linestyle=\"dashed\",label=\"gL*EL/c\")\n",
    "plt6ax.plot(t,θ̂[5,:],color=\"red\")\n",
    "\n",
    "# 1/c\n",
    "plt7 = plt.figure(); plt7ax = plt7.add_axes([0,0,1,1])\n",
    "plt7ax.plot([0,Tfinal],[1/c,1/c],color=\"black\",linestyle=\"dashed\",label=\"1/c\")\n",
    "plt7ax.plot(t,θ̂[6,:],color=\"red\")\n",
    "\n",
    "# I_syn (ignoring transient)\n",
    "plt8 = plt.figure(); plt8ax = plt8.add_axes([0,0,1,1])\n",
    "plt8ax.plot(t[300:],Isyn[300:],label=\"I_syn\")\n",
    "plt8ax.plot(t[300:],Isyn_hat[300:],color=\"red\")"
   ]
  },
  {
   "cell_type": "code",
   "execution_count": null,
   "id": "13465f03",
   "metadata": {},
   "outputs": [],
   "source": []
  },
  {
   "cell_type": "code",
   "execution_count": null,
   "id": "602d71ea",
   "metadata": {},
   "outputs": [],
   "source": []
  }
 ],
 "metadata": {
  "kernelspec": {
   "display_name": "Python 3",
   "language": "python",
   "name": "python3"
  },
  "language_info": {
   "codemirror_mode": {
    "name": "ipython",
    "version": 3
   },
   "file_extension": ".py",
   "mimetype": "text/x-python",
   "name": "python",
   "nbconvert_exporter": "python",
   "pygments_lexer": "ipython3",
   "version": "3.8.8"
  }
 },
 "nbformat": 4,
 "nbformat_minor": 5
}
