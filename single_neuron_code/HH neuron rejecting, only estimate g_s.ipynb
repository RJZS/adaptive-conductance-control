{
 "cells": [
  {
   "cell_type": "code",
   "execution_count": 1,
   "id": "cfb1748e",
   "metadata": {},
   "outputs": [],
   "source": [
    "import numpy as np\n",
    "import matplotlib.pyplot as plt\n",
    "from scipy.integrate import solve_ivp\n",
    "\n",
    "# Flag for saving data to .txt files \n",
    "save_data = 0\n",
    "from HH_odes import HH_ode, HH_synapse_observer"
   ]
  },
  {
   "cell_type": "code",
   "execution_count": 2,
   "id": "1a8caa4b",
   "metadata": {},
   "outputs": [],
   "source": [
    "# True Parameters \n",
    "c = 1.\n",
    "g = (120.,36.,0.3, 2) # Na, K, L, syn\n",
    "E = (55.,-77.,-54.4, -80.)\n",
    "Iapp = lambda t : 2 + np.sin(2*np.pi/10*t)\n",
    "\n",
    "# Observer parameters\n",
    "α = 0.2 # Default is 0.5\n",
    "γ = 70 # Default is 70\n",
    "\n",
    "# Initial conditions\n",
    "x_0 = [0, 0, 0, 0, 0]; # V, m, h, n, s\n",
    "x̂_0 = [-60, 0.5, 0.5, 0.5, 0.5];\n",
    "θ̂_0 = [60, 60, 10, 10, 0, 0, 0, 0, 0.1]; # gNa, gK, gL, gsyn, gNa*ENa, gK*EK, gL*EL, gsyn*Esyn, 1\n",
    "P_0 = np.eye(9);\n",
    "Ψ_0 = [0, 0, 0, 0, 0, 0, 0, 0, 0];\n",
    "x_0_p = [0, 0, 0, 0]; # x_0 for presynaptic neuron\n",
    "\n",
    "# Integration initial conditions and parameters\n",
    "dt = 0.01\n",
    "Tfinal = 300. # Default is 100.\n",
    "tspan = (0.,Tfinal)\n",
    "z_0 = np.concatenate((x_0, x̂_0, θ̂_0, P_0.flatten(), Ψ_0, x_0_p, x_0[:4]))"
   ]
  },
  {
   "cell_type": "code",
   "execution_count": null,
   "id": "e4a52ba2",
   "metadata": {},
   "outputs": [],
   "source": []
  }
 ],
 "metadata": {
  "kernelspec": {
   "display_name": "Python 3",
   "language": "python",
   "name": "python3"
  },
  "language_info": {
   "codemirror_mode": {
    "name": "ipython",
    "version": 3
   },
   "file_extension": ".py",
   "mimetype": "text/x-python",
   "name": "python",
   "nbconvert_exporter": "python",
   "pygments_lexer": "ipython3",
   "version": "3.8.8"
  }
 },
 "nbformat": 4,
 "nbformat_minor": 5
}
